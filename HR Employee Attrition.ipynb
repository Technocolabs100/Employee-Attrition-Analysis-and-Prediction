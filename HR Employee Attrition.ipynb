{
 "cells": [
  {
   "cell_type": "code",
   "execution_count": null,
   "metadata": {},
   "outputs": [],
   "source": [
    "import numpy as np\n",
    "import pandas as pd\n",
    "import matplotlib.pyplot as plt\n",
    "import plotly.express as px\n",
    "import seaborn as sns"
   ]
  },
  {
   "cell_type": "code",
   "execution_count": null,
   "metadata": {},
   "outputs": [],
   "source": [
    "df = pd.read_csv('Downloads/WA_Fn-UseC_-HR-Employee-Attrition.csv')\n",
    "df.head()"
   ]
  },
  {
   "cell_type": "code",
   "execution_count": null,
   "metadata": {},
   "outputs": [],
   "source": [
    "df.describe()"
   ]
  },
  {
   "cell_type": "code",
   "execution_count": null,
   "metadata": {},
   "outputs": [],
   "source": [
    "df.info()"
   ]
  },
  {
   "cell_type": "code",
   "execution_count": null,
   "metadata": {},
   "outputs": [],
   "source": [
    "# Let's replace 'Attritition' , 'overtime' , 'Over18' column with integers before performing any visualizations\n",
    "\n",
    "df['Attrition'] = df['Attrition'].apply(lambda x: 1 if x == 'Yes' else 0)\n",
    "df['Over18'] = df['Over18'].apply(lambda x: 1 if x == 'Y' else 0)\n",
    "df['OverTime'] = df['OverTime'].apply(lambda x: 1 if x == 'Yes' else 0)"
   ]
  },
  {
   "cell_type": "code",
   "execution_count": null,
   "metadata": {},
   "outputs": [],
   "source": [
    "# Let's see if we have any missing data, luckily we don't!\n",
    "\n",
    "if df.isnull().sum().sum() == 0:\n",
    "    print('CHECK: No missing data \\n')\n",
    "else:\n",
    "    print('CHECK: Missing data found \\n')\n",
    "print(df.isnull().sum())"
   ]
  },
  {
   "cell_type": "code",
   "execution_count": null,
   "metadata": {},
   "outputs": [],
   "source": [
    "sns.countplot(x='Attrition', data=df,hue='Attrition',legend=False)\n",
    "plt.xlabel('Attrition')\n",
    "plt.ylabel('Count')\n",
    "plt.xticks([0,1], ['Stayed', 'Left'])\n",
    "plt.show()"
   ]
  },
  {
   "cell_type": "code",
   "execution_count": null,
   "metadata": {},
   "outputs": [],
   "source": [
    "df.hist(figsize=(20,20), bins=50)\n",
    "plt.show()"
   ]
  },
  {
   "cell_type": "code",
   "execution_count": null,
   "metadata": {},
   "outputs": [],
   "source": [
    "# It makes sense to drop 'EmployeeCount' , 'Standardhours' and 'Over18' since they do not change from one employee to the other\n",
    "# Let's drop 'EmployeeNumber' as well\n",
    "df.drop(['EmployeeCount', 'StandardHours', 'Over18', 'EmployeeNumber'], axis=\"columns\", inplace=True)"
   ]
  },
  {
   "cell_type": "code",
   "execution_count": null,
   "metadata": {},
   "outputs": [],
   "source": [
    "# Let's see how many employees left the company!\n",
    "# Count the number of employees who stayed and left\n",
    "# It seems that we are dealing with an imbalanced dataset\n",
    "\n",
    "left_df = df[df['Attrition'] == 1]\n",
    "stayed_df = df[df['Attrition'] == 0]\n",
    "print(f'Total Employees: {len(df)}\\n')\n",
    "print(f'Number of employees who left: {df[\"Attrition\"].value_counts()[1]}')\n",
    "print(f'% of employees who left: {round(df[\"Attrition\"].value_counts()[1]/len(df)*100,2)}%\\n')\n",
    "print(f'Number of employees who stayed: {df[\"Attrition\"].value_counts()[0]}')\n",
    "print(f'% of employees who stayed: {round(df[\"Attrition\"].value_counts()[0]/len(df)*100,2)}%')"
   ]
  },
  {
   "cell_type": "code",
   "execution_count": null,
   "metadata": {},
   "outputs": [],
   "source": [
    "fig, ax = plt.subplots(1, 3, figsize=(20, 5))\n",
    "sns.histplot(df, x='Age', hue='Attrition', kde=True, ax=ax[0])\n",
    "sns.histplot(df, x='DailyRate', hue='Attrition', kde=True, ax=ax[1])\n",
    "sns.histplot(df, x='DistanceFromHome', hue='Attrition', kde=True, ax=ax[2])\n",
    "plt.show()"
   ]
  },
  {
   "cell_type": "code",
   "execution_count": null,
   "metadata": {},
   "outputs": [],
   "source": [
    "correlations = df.corr(numeric_only=True, method='spearman') #We're using Spearman's Correlation Coefficient as we are dealing with non-parametric data (not normally distributed)\n",
    "f, ax = plt.subplots(figsize=(20, 20))\n",
    "sns.heatmap(correlations, annot=True)"
   ]
  },
  {
   "cell_type": "code",
   "execution_count": null,
   "metadata": {},
   "outputs": [],
   "source": [
    "plt.figure(figsize=[25,12])\n",
    "sns.countplot(x = 'Age', hue = 'Attrition', data = df)"
   ]
  },
  {
   "cell_type": "code",
   "execution_count": null,
   "metadata": {},
   "outputs": [],
   "source": [
    "plt.figure(figsize=[20,20])\n",
    "plt.subplot(411)\n",
    "sns.countplot(x = 'JobRole', hue = 'Attrition', data = df)\n",
    "plt.subplot(412)\n",
    "sns.countplot(x = 'MaritalStatus', hue = 'Attrition', data = df)\n",
    "plt.subplot(413)\n",
    "sns.countplot(x = 'JobInvolvement', hue = 'Attrition', data = df)\n",
    "plt.subplot(414)\n",
    "sns.countplot(x = 'JobLevel', hue = 'Attrition', data = df)"
   ]
  },
  {
   "cell_type": "code",
   "execution_count": null,
   "metadata": {},
   "outputs": [],
   "source": [
    "plt.figure(figsize=(12,7))\n",
    "sns.kdeplot(left_df['DistanceFromHome'], label='Employees who left', fill=True, color='r')\n",
    "sns.kdeplot(stayed_df['DistanceFromHome'], label='Employees who Stayed', fill=True, color='b')\n",
    "plt.xlabel('Distance From Home')\n",
    "plt.legend()"
   ]
  },
  {
   "cell_type": "code",
   "execution_count": null,
   "metadata": {},
   "outputs": [],
   "source": [
    "plt.figure(figsize=(12,7))\n",
    "sns.kdeplot(left_df['YearsWithCurrManager'], label='Employees who left', fill=True, color='r')\n",
    "sns.kdeplot(stayed_df['YearsWithCurrManager'], label='Employees who Stayed', fill=True, color='b')\n",
    "plt.xlabel('Years With Current Manager')\n",
    "plt.legend()"
   ]
  },
  {
   "cell_type": "code",
   "execution_count": null,
   "metadata": {},
   "outputs": [],
   "source": [
    "plt.figure(figsize=(12,7))\n",
    "sns.kdeplot(left_df['TotalWorkingYears'], label='Employees who left', fill=True, color='r')\n",
    "sns.kdeplot(stayed_df['TotalWorkingYears'], label='Employees who Stayed', fill=True, color='b')\n",
    "plt.xlabel('Total Working Years')\n",
    "plt.legend()"
   ]
  },
  {
   "cell_type": "code",
   "execution_count": null,
   "metadata": {},
   "outputs": [],
   "source": [
    "plt.figure(figsize=(12,8))\n",
    "sns.boxplot(x='Gender', y='MonthlyIncome', data=df,hue='Gender')"
   ]
  },
  {
   "cell_type": "code",
   "execution_count": null,
   "metadata": {},
   "outputs": [],
   "source": [
    "plt.figure(figsize=(15, 10))\n",
    "sns.boxplot(x='MonthlyIncome', y='JobRole', data=df,hue='JobRole')"
   ]
  },
  {
   "cell_type": "code",
   "execution_count": null,
   "metadata": {},
   "outputs": [],
   "source": [
    "box_attrition = df[['Attrition', 'JobSatisfaction', 'Gender']]\n",
    "\n",
    "plt.figure()\n",
    "sns.boxplot(data=box_attrition, x='Attrition', y='JobSatisfaction', hue='Gender')\n",
    "plt.xlabel('Attrition')\n",
    "plt.ylabel('Job Satisfaction')\n",
    "plt.title('Boxplot of Job Satisfaction by Attrition and Gender')\n",
    "plt.legend(title='Gender')\n",
    "plt.show()"
   ]
  },
  {
   "cell_type": "code",
   "execution_count": null,
   "metadata": {},
   "outputs": [],
   "source": [
    "df['JobSatisfaction'].value_counts()"
   ]
  },
  {
   "cell_type": "code",
   "execution_count": null,
   "metadata": {},
   "outputs": [],
   "source": [
    "# Boxplot of job satisfaction by attrition and gender\n",
    "sns.boxplot(data=df, x='Gender', y='JobSatisfaction', hue='Attrition')\n",
    "plt.title('Boxplot of Job Satisfaction by Attrition and Gender')\n",
    "plt.xlabel('Gender')\n",
    "plt.ylabel('Job Satisfaction')\n",
    "\n",
    "plt.tight_layout()\n",
    "plt.show()\n",
    "\n"
   ]
  },
  {
   "cell_type": "code",
   "execution_count": null,
   "metadata": {},
   "outputs": [],
   "source": []
  }
 ],
 "metadata": {
  "kernelspec": {
   "display_name": "Python 3",
   "language": "python",
   "name": "python3"
  },
  "language_info": {
   "codemirror_mode": {
    "name": "ipython",
    "version": 3
   },
   "file_extension": ".py",
   "mimetype": "text/x-python",
   "name": "python",
   "nbconvert_exporter": "python",
   "pygments_lexer": "ipython3",
   "version": "3.8.3"
  }
 },
 "nbformat": 4,
 "nbformat_minor": 4
}
